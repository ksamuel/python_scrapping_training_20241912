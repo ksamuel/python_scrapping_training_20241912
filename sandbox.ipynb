{
 "cells": [
  {
   "cell_type": "code",
   "execution_count": 2,
   "metadata": {},
   "outputs": [],
   "source": [
    "import requests\n",
    "\n",
    "\n",
    "response = requests.get(\"https://www.python.org/\")"
   ]
  },
  {
   "cell_type": "code",
   "execution_count": 13,
   "metadata": {},
   "outputs": [],
   "source": [
    "response = requests.get('https://dog.ceo/api/breed/hound/list/')\n",
    "\n",
    "data = response.json()"
   ]
  },
  {
   "cell_type": "code",
   "execution_count": 16,
   "metadata": {},
   "outputs": [
    {
     "name": "stdout",
     "output_type": "stream",
     "text": [
      "afghan\n",
      "basset\n",
      "blood\n",
      "english\n",
      "ibizan\n",
      "plott\n",
      "walker\n"
     ]
    }
   ],
   "source": [
    "for subreed in data['message']:\n",
    "    print(subreed)"
   ]
  },
  {
   "cell_type": "code",
   "execution_count": 17,
   "metadata": {},
   "outputs": [],
   "source": [
    " \n",
    "#    <td class=\"title\"><span class=\"titleline\"><a href=\"https://htmhell.dev/adventcalendar/2024/20/\">My favourite colour is Chuck Norris red</a><span class=\"sitebit comhead\"> (<a href=\"from?site=htmhell.dev\"><span class=\"sitestr\">htmhell.dev</span></a>)</span></span></td>\n",
    " \n",
    "response = requests.get('https://news.ycombinator.com/')\n",
    "\n",
    "html = response.text\n"
   ]
  },
  {
   "cell_type": "code",
   "execution_count": 29,
   "metadata": {},
   "outputs": [
    {
     "name": "stdout",
     "output_type": "stream",
     "text": [
      "My favourite colour is Chuck Norris red https://htmhell.dev/adventcalendar/2024/20/\n",
      "Tldraw Computer https://computer.tldraw.com\n",
      "Waymo achieves 92% reduction in bodily injury claims compared to human drivers https://waymo.com/research/do-autonomous-vehicles-outperform-latest-generation-human-driven-vehicles-25-million-miles/\n",
      "The era of open voice assistants https://www.home-assistant.io/blog/2024/12/19/voice-preview-edition-the-era-of-open-voice/\n",
      "Kelly Can't Fail https://win-vector.com/2024/12/19/kelly-cant-fail/\n",
      "A Gentle Introduction to Graph Neural Networks https://distill.pub/2021/gnn-intro/\n",
      "HAM radio operators receive signals from Voyager 1 on Dwingeloo telescope https://www.camras.nl/en/blog/2024/dwingeloo-telescope-receives-signals-from-voyager-1/\n",
      "How concurrecy works: A visual guide https://wyounas.github.io/concurrency/2024/12/12/how-concurrency-works-a-visual-guide/\n",
      "Ten Thousand Years https://99percentinvisible.org/episode/ten-thousand-years/\n",
      "Ghost artists on Spotify https://harpers.org/archive/2025/01/the-ghosts-in-the-machine-liz-pelly-spotify-musicians/\n",
      "A 10-Year Battery for AirTag https://www.elevationlab.com/blogs/news/introducing-timecapsule\n",
      "Nullboard: Kanban board in a single HTML file https://github.com/apankrat/nullboard\n",
      "Music and Geometry: Intervals and Scales https://roelsworld.eu/blog-music/music-geometry-intervals-scales/\n",
      "Hardware Security Exploit Research – Xbox 360 https://github.com/kooscode/srgh-matrix-trinity/blob/main/README.md\n",
      "Show HN: Mizu.js – Lightweight HTML templating library for any-side rendering https://mizu.sh\n",
      "Clay – UI Layout Library https://www.nicbarker.com/clay\n",
      "Using GPS satellites to detect tsunamis via ionospheric ionization waves https://www.earthdata.nasa.gov/learn/data-in-action/global-navigation-satellite-system-data-brings-forth-guardian\n",
      "Satellite powered estimation of global solar potential https://research.google/blog/satellite-powered-estimation-of-global-solar-potential/\n",
      "Show HN: Gribstream.com – Historical Weather Forecast API https://gribstream.com\n",
      "Documented and annotated source code for Elite on the Commodore 64 https://github.com/markmoxon/elite-source-code-commodore-64\n",
      "Silk – Interactive Generative Art (2011) http://weavesilk.com/\n",
      "The Artist Exposing the Data We Leave Online https://www.newyorker.com/culture/infinite-scroll/the-artist-exposing-the-data-we-leave-online\n",
      "Kowloon Walled City: Heterotopia in a Space of Disappearance (2013) https://mascontext.com/issues/trace/kowloon-walled-city-heterotopia-in-a-space-of-disappearance\n",
      "Blackmagic Debuts $30K 3D Camera for Capturing Video for Vision Pro https://www.macrumors.com/2024/12/16/black-magic-3d-vision-pro-camera/\n",
      "The Power Mac 4400 https://512pixels.net/2024/12/the-power-mac-4400/\n",
      "A Knife Forged in Fire https://www.chicagomag.com/chicago-magazine/january-2024/a-knife-forged-in-fire/\n",
      "DVST Graphic Terminals https://vintagetek.org/dvst-graphic-terminals/\n",
      "Cannabis pollen dispersal across the United States https://www.nature.com/articles/s41598-024-70633-x\n",
      "How to Test More Drugs https://www.writingruxandrabio.com/p/on-clinical-trial-abundance\n",
      "Openlayer (YC S21) is looking for a customer engineer to join our rocketship https://www.ycombinator.com/companies/openlayer/jobs/yIE9WI3-customer-engineer\n"
     ]
    }
   ],
   "source": [
    "from bs4 import BeautifulSoup\n",
    "soup = BeautifulSoup(html)\n",
    "spans = soup.find_all(\"span\", \"titleline\")\n",
    "\n",
    "for span in spans:\n",
    "    a = span.find('a')\n",
    "    print(a.text, a['href'])\n"
   ]
  },
  {
   "cell_type": "code",
   "execution_count": 56,
   "metadata": {},
   "outputs": [],
   "source": [
    "response = requests.get('https://en.wikipedia.org/wiki/Akita_(dog_breed)')\n",
    "html = response.text\n",
    "\n"
   ]
  },
  {
   "cell_type": "code",
   "execution_count": 58,
   "metadata": {},
   "outputs": [
    {
     "name": "stdout",
     "output_type": "stream",
     "text": [
      "The Akita (秋田, Akita, Japanese pronunciation: [akʲita]) is a Japanese  dog breed of large size. Originating from the mountains of northern Japan, the Akita has a short double coat similar to that of many other northern spitz breeds. Historically, they were used by matagi for guarding and the hunting of bears.\n",
      "\n"
     ]
    }
   ],
   "source": [
    "from bs4 import BeautifulSoup\n",
    "soup = BeautifulSoup(html)\n",
    " \n",
    "print(soup.find(attrs=\"infobox\").find_next('p').text)\n",
    "\n",
    " "
   ]
  },
  {
   "cell_type": "code",
   "execution_count": 72,
   "metadata": {},
   "outputs": [
    {
     "name": "stdout",
     "output_type": "stream",
     "text": [
      "357106\n"
     ]
    }
   ],
   "source": [
    "import pyotp\n",
    "\n",
    "print(pyotp.TOTP(\"I65VU7K5ZQL7WB4E\").now())\n",
    "\n"
   ]
  },
  {
   "cell_type": "code",
   "execution_count": null,
   "metadata": {},
   "outputs": [],
   "source": []
  }
 ],
 "metadata": {
  "kernelspec": {
   "display_name": ".venv",
   "language": "python",
   "name": "python3"
  },
  "language_info": {
   "codemirror_mode": {
    "name": "ipython",
    "version": 3
   },
   "file_extension": ".py",
   "mimetype": "text/x-python",
   "name": "python",
   "nbconvert_exporter": "python",
   "pygments_lexer": "ipython3",
   "version": "3.12.7"
  }
 },
 "nbformat": 4,
 "nbformat_minor": 2
}
